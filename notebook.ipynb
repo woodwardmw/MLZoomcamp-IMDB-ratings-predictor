{
 "cells": [
  {
   "cell_type": "markdown",
   "id": "42c1a698",
   "metadata": {},
   "source": [
    "# Importing and cleaning the data"
   ]
  },
  {
   "cell_type": "markdown",
   "id": "fb50ea97",
   "metadata": {},
   "source": [
    "I downloaded the data from the [Large Movie Review Dataset](http://ai.stanford.edu/~amaas/data/sentiment/) from ai.stanford.edu.\n",
    "\n",
    "Citation:\n",
    "Maas, A., Daly, R., Pham, P., Huang, D., Ng, A., & Potts, C. (2011). Learning Word Vectors for Sentiment Analysis. In Proceedings of the 49th Annual Meeting of the Association for Computational Linguistics: Human Language Technologies (pp. 142–150). Association for Computational Linguistics.\n",
    "\n",
    "The data is in the form of .txt files, with one review per file. These files are in the following directories:\n",
    "```\n",
    "data/aclImdb/{train or test}/{pos or neg}\n",
    "```\n",
    "### Data cleaning\n",
    "The name of each file gives the index of the file, together with the rating, from 1 to 10, as follows:\n",
    "```\n",
    "{index}_{rating}.txt\n",
    "```\n",
    "First I want to add leading zeros to the filenames, so that the alphabetical order is the same as the index number order."
   ]
  },
  {
   "cell_type": "code",
   "execution_count": 3,
   "id": "9cba45f5",
   "metadata": {},
   "outputs": [],
   "source": [
    "import os\n",
    "\n",
    "dirs = ['data/aclImdb/train/pos', 'data/aclImdb/train/neg', 'data/aclImdb/test/pos', 'data/aclImdb/test/neg']\n",
    "for dir in dirs:\n",
    "    for dir_file in os.listdir(dir):\n",
    "            file_number, file_end = dir_file.split('_')\n",
    "            num = file_number.zfill(5)  # num is 5 characters long with leading 0\n",
    "\n",
    "            \n",
    "            new_file = \"{}_{}\".format(num, file_end)\n",
    "            os.rename(dir + '/' + dir_file, dir + '/' + new_file)"
   ]
  },
  {
   "cell_type": "markdown",
   "id": "988c7946",
   "metadata": {},
   "source": [
    "When importing the files I found that some had a unicode character that caused a line break. This would cause these files to be imported as two (or more) separate data rows, when I wanted the whole file to be imported as one row. So I removed this unicode character from all files."
   ]
  },
  {
   "cell_type": "code",
   "execution_count": 4,
   "id": "8916daac",
   "metadata": {},
   "outputs": [],
   "source": [
    "dirs = ['data/aclImdb/train/pos', 'data/aclImdb/train/neg', 'data/aclImdb/test/pos', 'data/aclImdb/test/neg']\n",
    "for dir in dirs:\n",
    "    for dir_file in os.listdir(dir):\n",
    "        # Read in the file\n",
    "        with open(dir + '/' + dir_file, 'r') as file:\n",
    "            filedata = file.read()\n",
    "        # Replace the target string\n",
    "        filedata = filedata.replace('\\u0085', ' ')\n",
    "\n",
    "        # Write the file out again\n",
    "        with open(dir + '/' + dir_file, 'w') as file:\n",
    "            file.write(filedata)"
   ]
  },
  {
   "cell_type": "markdown",
   "id": "023cd07c",
   "metadata": {},
   "source": [
    "I then wanted to extract the rating from each filename into a list."
   ]
  },
  {
   "cell_type": "code",
   "execution_count": 5,
   "id": "21cb9282",
   "metadata": {},
   "outputs": [],
   "source": [
    "# Put the files into ordered lists, one for train and one for test\n",
    "dirs = ['train','test']\n",
    "files = {}\n",
    "ratings = {}\n",
    "for dir in dirs:\n",
    "    files[dir] = []\n",
    "    ratings[dir] = []\n",
    "    subdirs = ['pos', 'neg']\n",
    "    for subdir in subdirs:\n",
    "        files_tmp = []\n",
    "        for dir_file in os.listdir('data/aclImdb/' + dir + '/' + subdir):\n",
    "            files_tmp += [dir_file]\n",
    "        files_tmp = sorted(files_tmp)\n",
    "        files[dir].extend(files_tmp)\n",
    "    for file in files[dir]:\n",
    "        rating = int(file.split('_')[1].split('.')[0])\n",
    "        ratings[dir].append(rating)"
   ]
  },
  {
   "cell_type": "markdown",
   "id": "6b5c4b7c",
   "metadata": {},
   "source": [
    "I now have two lists:\n",
    "```ratings['train']```\n",
    "and\n",
    "```ratings['test']```\n",
    "which are each of length 25,000, containing the ratings for the train and test reviews, in index order."
   ]
  },
  {
   "cell_type": "code",
   "execution_count": 57,
   "id": "b8559d83",
   "metadata": {},
   "outputs": [],
   "source": [
    "train_ratings = np.array(ratings['train'])"
   ]
  },
  {
   "cell_type": "markdown",
   "id": "007936b1",
   "metadata": {},
   "source": [
    "# Data Analysis"
   ]
  },
  {
   "cell_type": "markdown",
   "id": "689dce14",
   "metadata": {},
   "source": [
    "### Distribution of Ratings"
   ]
  },
  {
   "cell_type": "code",
   "execution_count": 52,
   "id": "23c2c756",
   "metadata": {},
   "outputs": [
    {
     "data": {
      "image/png": "[encoded data removed]",
      "text/plain": [
       "<Figure size 432x288 with 1 Axes>"
      ]
     },
     "metadata": {
      "needs_background": "light"
     },
     "output_type": "display_data"
    }
   ],
   "source": [
    "import matplotlib.pyplot as plt\n",
    "import numpy as np\n",
    "\n",
    "data = train_ratings\n",
    "d = np.diff(np.unique(data)).min()\n",
    "left_of_first_bin = data.min() - float(d)/2\n",
    "right_of_last_bin = data.max() + float(d)/2\n",
    "plt.hist(data, np.arange(left_of_first_bin, right_of_last_bin + d, d))\n",
    "plt.show()"
   ]
  },
  {
   "cell_type": "markdown",
   "id": "b1eb0d8c",
   "metadata": {},
   "source": [
    "Note that there are no 5 or 6 ratings. This is because the dataset was prepared for the intention of sentiment analysis, and split into positive (ratings 7 to 10) and negative (ratings 1 to 4). Ideally our data would include a full range of ratings, but I think the model will still be able to train well without the mid-range ratings."
   ]
  },
  {
   "cell_type": "markdown",
   "id": "14db81e5",
   "metadata": {},
   "source": [
    "### Baseline MSE\n",
    "Our metric for the model will be Mean Squared Error, which will give us a measure of how far each prediction is from the actual rating. It returns the sum of the squares of the differences between the predictions and the actual ratings.\n",
    "\n",
    "It will be helpful for us to have a baseline for what this MSE would be with a very naive model. One very simple baseline is to take the mean of all ratings, and predict this mean each time. This would give the following MSE:"
   ]
  },
  {
   "cell_type": "code",
   "execution_count": 76,
   "id": "d383cbad",
   "metadata": {},
   "outputs": [
    {
     "data": {
      "text/plain": [
       "12.0159836016"
      ]
     },
     "execution_count": 76,
     "metadata": {},
     "output_type": "execute_result"
    }
   ],
   "source": [
    "import statistics\n",
    "\n",
    "mean = statistics.fmean(train_ratings)\n",
    "mse = statistics.mean((train_ratings - mean)**2)\n",
    "mse"
   ]
  },
  {
   "cell_type": "markdown",
   "id": "7cfc5d8c",
   "metadata": {},
   "source": [
    "If our model is finding any signal in the data, it should be going lower than this baseline MSE."
   ]
  },
  {
   "cell_type": "markdown",
   "id": "1443c0a1",
   "metadata": {},
   "source": [
    "### Optimal MSE\n",
    "I imagine that predicting ratings from reviews will have an optimal MSE that is significantly higher than 0. Even a highly experienced group of human experts will not be able to approach perfect predicting, because the ratings given by the reviewers have a certain level of inherent unpredictability. Someone may review a movie as \"This was awesome\" and give it a rating of 10, while someone else could give exactly the same review with a rating of 7.\n",
    "\n",
    "So I am expecting that the [Bayes error](https://en.wikipedia.org/wiki/Bayes_error_rate) is significantly above zero. My guess is it might be somewhere in the region of an MSE of 4, meaning that the average prediction is wrong by two ratings points. But that is only a guess based on my intution of how much unpredictability there is in the ratings that reviewers assign."
   ]
  },
  {
   "cell_type": "markdown",
   "id": "4e98c32a",
   "metadata": {},
   "source": [
    "### Length of reviews"
   ]
  },
  {
   "cell_type": "code",
   "execution_count": 42,
   "id": "5924902d",
   "metadata": {},
   "outputs": [],
   "source": [
    "dirs = ['data/aclImdb/train/pos', 'data/aclImdb/train/neg', 'data/aclImdb/test/pos', 'data/aclImdb/test/neg']\n",
    "lengths_chars = []\n",
    "lengths_words = []\n",
    "for dir in dirs:\n",
    "    for dir_file in os.listdir(dir):\n",
    "        # Read in the file\n",
    "        with open(dir + '/' + dir_file, 'r') as file:\n",
    "            filedata = file.read()\n",
    "            length_chars = len(filedata)\n",
    "            length_words = len(filedata.split())\n",
    "            lengths_chars.append(length_chars)\n",
    "            lengths_words.append(length_words)"
   ]
  },
  {
   "cell_type": "code",
   "execution_count": 45,
   "id": "60147a78",
   "metadata": {},
   "outputs": [
    {
     "data": {
      "image/png": "[encoded data removed]",
      "text/plain": [
       "<Figure size 432x288 with 1 Axes>"
      ]
     },
     "metadata": {
      "needs_background": "light"
     },
     "output_type": "display_data"
    }
   ],
   "source": [
    "data = lengths_chars\n",
    "data = np.array(data)\n",
    "\n",
    "d = np.diff(np.unique(data)).min()\n",
    "left_of_first_bin = data.min() - float(d)/2\n",
    "right_of_last_bin = data.max() + float(d)/2\n",
    "plt.hist(data, np.arange(left_of_first_bin, right_of_last_bin + d, d))\n",
    "plt.title('Lengths of reviews in characters')\n",
    "plt.show()"
   ]
  },
  {
   "cell_type": "code",
   "execution_count": 46,
   "id": "2bc06734",
   "metadata": {},
   "outputs": [
    {
     "data": {
      "image/png": "[encoded data removed]",
      "text/plain": [
       "<Figure size 432x288 with 1 Axes>"
      ]
     },
     "metadata": {
      "needs_background": "light"
     },
     "output_type": "display_data"
    }
   ],
   "source": [
    "data = lengths_words\n",
    "data = np.array(data)\n",
    "\n",
    "d = np.diff(np.unique(data)).min()\n",
    "left_of_first_bin = data.min() - float(d)/2\n",
    "right_of_last_bin = data.max() + float(d)/2\n",
    "plt.hist(data, np.arange(left_of_first_bin, right_of_last_bin + d, d))\n",
    "plt.title('Lengths of reviews in words')\n",
    "plt.show()"
   ]
  },
  {
   "cell_type": "markdown",
   "id": "56b29214",
   "metadata": {},
   "source": [
    "We see that most reviews are under 512 words. This is good, since the tokenizer that we will use has a maximum length of 512 words, meaning that any words after this limit will be ignored by the model."
   ]
  },
  {
   "cell_type": "markdown",
   "id": "cd7759cd",
   "metadata": {},
   "source": [
    "# Preparing the data for batch training"
   ]
  },
  {
   "cell_type": "markdown",
   "id": "3415588e",
   "metadata": {},
   "source": [
    "The text data are still in ```.txt``` files in four directories:\n",
    "```\n",
    "train/pos\n",
    "train/neg\n",
    "test/pos\n",
    "test/neg\n",
    "```\n",
    "These can be converted into a Dataset, that the pretrained NLP model can efficiently process in batches."
   ]
  },
  {
   "cell_type": "code",
   "execution_count": 47,
   "id": "40a68093",
   "metadata": {},
   "outputs": [
    {
     "data": {
      "application/vnd.jupyter.widget-view+json": {
       "model_id": "71c4af7a8e9e4c1f921864d6fea9835d",
       "version_major": 2,
       "version_minor": 0
      },
      "text/plain": [
       "Resolving data files:   0%|          | 0/25000 [00:00<?, ?it/s]"
      ]
     },
     "metadata": {},
     "output_type": "display_data"
    },
    {
     "data": {
      "application/vnd.jupyter.widget-view+json": {
       "model_id": "dd3c9c7f80f746518e3dd30e9b202b77",
       "version_major": 2,
       "version_minor": 0
      },
      "text/plain": [
       "Resolving data files:   0%|          | 0/25000 [00:00<?, ?it/s]"
      ]
     },
     "metadata": {},
     "output_type": "display_data"
    },
    {
     "name": "stderr",
     "output_type": "stream",
     "text": [
      "Using custom data configuration default-208475e3491f36cc\n"
     ]
    },
    {
     "name": "stdout",
     "output_type": "stream",
     "text": [
      "Downloading and preparing dataset text/default to /home/mark/.cache/huggingface/datasets/text/default-208475e3491f36cc/0.0.0/e16f44aa1b321ece1f87b07977cc5d70be93d69b20486d6dacd62e12cf25c9a5...\n"
     ]
    },
    {
     "data": {
      "application/vnd.jupyter.widget-view+json": {
       "model_id": "caf9bf08075c4ffd887029b29a4d7abb",
       "version_major": 2,
       "version_minor": 0
      },
      "text/plain": [
       "  0%|          | 0/2 [00:00<?, ?it/s]"
      ]
     },
     "metadata": {},
     "output_type": "display_data"
    },
    {
     "data": {
      "application/vnd.jupyter.widget-view+json": {
       "model_id": "42e4f0317d84420ca9d092384e80dcce",
       "version_major": 2,
       "version_minor": 0
      },
      "text/plain": [
       "  0%|          | 0/2 [00:00<?, ?it/s]"
      ]
     },
     "metadata": {},
     "output_type": "display_data"
    },
    {
     "name": "stdout",
     "output_type": "stream",
     "text": [
      "Dataset text downloaded and prepared to /home/mark/.cache/huggingface/datasets/text/default-208475e3491f36cc/0.0.0/e16f44aa1b321ece1f87b07977cc5d70be93d69b20486d6dacd62e12cf25c9a5. Subsequent calls will reuse this data.\n"
     ]
    },
    {
     "data": {
      "application/vnd.jupyter.widget-view+json": {
       "model_id": "ddf31b5d436847daa35ce837390955e1",
       "version_major": 2,
       "version_minor": 0
      },
      "text/plain": [
       "  0%|          | 0/2 [00:00<?, ?it/s]"
      ]
     },
     "metadata": {},
     "output_type": "display_data"
    }
   ],
   "source": [
    "from datasets import load_dataset\n",
    "\n",
    "data = load_dataset(\"text\", data_files={'train': ['data/aclImdb/train/pos/*.txt', 'data/aclImdb/train/neg/*.txt'], 'test': ['data/aclImdb/test/pos/*.txt', 'data/aclImdb/test/neg/*.txt']})"
   ]
  },
  {
   "cell_type": "markdown",
   "id": "3664516e",
   "metadata": {},
   "source": [
    "NLP models can be very expensive to train, often involving a GPU running for long periods of time. So when setting up the training, and even when tuning hyperparameters, I want to have the option to do this on a subset of the data to speed up the process.\n",
    "\n",
    "I will define a function to return a subset of the dataset, with a given number of rows, but ensuring that this subset includes rows from both the positive and negative parts of the data."
   ]
  },
  {
   "cell_type": "code",
   "execution_count": 78,
   "id": "50b25693",
   "metadata": {},
   "outputs": [],
   "source": [
    "def data_subset(data, max_rows):\n",
    "    return data.filter(lambda e, i: (i in range(int(max_rows / 2)) or i in range(int(len(data['train']) / 2), int(len(data['train']) / 2) + int(max_rows / 2))), with_indices=True)"
   ]
  },
  {
   "cell_type": "markdown",
   "id": "b15b6bd5",
   "metadata": {},
   "source": [
    "### Save the data to Amazon S3\n",
    "I next saved the data to Amazon S3 storage, where it could be accessed from elsewhere as I trained the model."
   ]
  },
  {
   "cell_type": "code",
   "execution_count": null,
   "id": "3c56840b",
   "metadata": {},
   "outputs": [],
   "source": [
    "!mkdir -p ~/.aws\n",
    "!cp ./aws_config ~/.aws/config"
   ]
  },
  {
   "cell_type": "code",
   "execution_count": null,
   "id": "dcbd8c85",
   "metadata": {},
   "outputs": [],
   "source": [
    "from botocore.session import Session\n",
    "\n",
    "s3_session = Session()\n",
    "s3 = datasets.filesystems.S3FileSystem(session=s3_session)\n",
    "data.save_to_disk('s3://mlzoomcamp-capstone', fs=s3)"
   ]
  },
  {
   "cell_type": "markdown",
   "id": "ad75a352",
   "metadata": {},
   "source": [
    "# Base Model and Tokenizer\n",
    "Since training an NLP model from scratch requires a huge amount of time and computing resources, I will use a base transformer model to process the text data. I will then add my own custom layers on top of the base model, and train these custom layers on the target data - the ratings.\n",
    "\n",
    "I decided to use DistilBert as the base transformer. According to its [Hugging Face model card](https://huggingface.co/docs/transformers/model_doc/distilbert), DistilBERT is \"a small, fast, cheap and light Transformer model trained by distilling BERT base\". Specifically I will use the \"distilbert-base-uncased\" model, which is a base model (designed to be finetuned for various tasks) that is uncased (meaning that it does not distinguish between upper and lower case)."
   ]
  },
  {
   "cell_type": "code",
   "execution_count": 80,
   "id": "1aa30345",
   "metadata": {},
   "outputs": [],
   "source": [
    "checkpoint = 'distilbert-base-uncased'"
   ]
  },
  {
   "cell_type": "markdown",
   "id": "f5cb933b",
   "metadata": {},
   "source": [
    "In order to be inputted into the Transformer model, the data needs to be processed by a tokenizer. The tokenizer takes the words and basically assigns an integer to each word. This tokenizer is defined by the Transformer model, so it is important that we use the tokenizer for the particular model that we will use."
   ]
  },
  {
   "cell_type": "code",
   "execution_count": 28,
   "id": "5642e9d1",
   "metadata": {},
   "outputs": [],
   "source": [
    "tokenizer = AutoTokenizer.from_pretrained(checkpoint)"
   ]
  },
  {
   "cell_type": "markdown",
   "id": "8d6348ea",
   "metadata": {},
   "source": [
    "I want to truncate the data (discarding words after the ```max_length``` has been reached) and add padding (zeros) up until the ```max_length```. This ```max_length``` is the maximum number of words from the text that will be inputted into the model. This is a hyperparameter that I will tune, up to the maximum value of 512 which is the maximum length that ```distilbert-base-uncased``` can read."
   ]
  },
  {
   "cell_type": "code",
   "execution_count": 79,
   "id": "cad2c4e9",
   "metadata": {},
   "outputs": [],
   "source": [
    "def tokenize_function(data):\n",
    "    return tokenizer(data[\"text\"], truncation=True, padding=True, max_length=params['max_length'])"
   ]
  },
  {
   "cell_type": "markdown",
   "id": "aa8e9a3b",
   "metadata": {},
   "source": [
    "The ```data_collator``` function will take this tokenized data and return tensorflow tensors, which are the format that the base model expects as input."
   ]
  },
  {
   "cell_type": "code",
   "execution_count": 29,
   "id": "289fb6ef",
   "metadata": {},
   "outputs": [],
   "source": [
    "data_collator = DataCollatorWithPadding(tokenizer=tokenizer, return_tensors=\"tf\")"
   ]
  },
  {
   "cell_type": "markdown",
   "id": "1e6f15e5",
   "metadata": {},
   "source": [
    "I have defined a single ```prepare_data()``` function below, that takes the hyperparameters as input and returns the tensorflow tensors that can be inputted into the model.\n",
    "\n",
    "I am using the 25,000 ```train``` reviews as training data and the 25,000 ```test``` reviews as validation data. "
   ]
  },
  {
   "cell_type": "code",
   "execution_count": 114,
   "id": "c6baa2c1",
   "metadata": {},
   "outputs": [],
   "source": [
    "def prepare_data(params):\n",
    "    max_rows = params['max_rows']\n",
    "    max_length = params['max_length']\n",
    "    smaller_data = data.filter(lambda e, i: (i in range(int(max_rows / 2)) or i in range(12500, 12500 + int(max_rows / 2))), with_indices=True)\n",
    "    tokenized_data = smaller_data.map(tokenize_function, batched=True)\n",
    "    print(tokenized_data['train'])\n",
    "    \n",
    "    tf_train_dataset = tokenized_data[\"train\"].to_tf_dataset(\n",
    "    columns=[\"attention_mask\", \"input_ids\"],\n",
    "    label_cols=[\"rating\"],\n",
    "    shuffle=True,\n",
    "    collate_fn=data_collator,\n",
    "    batch_size=params['batch_size'],\n",
    "        )\n",
    "    tf_val_dataset = tokenized_data[\"test\"].to_tf_dataset(\n",
    "        columns=[\"attention_mask\", \"input_ids\"],\n",
    "        label_cols=[\"rating\"],\n",
    "        shuffle=True,\n",
    "        collate_fn=data_collator,\n",
    "        batch_size=params['batch_size'],\n",
    "        )\n",
    "    return tf_train_dataset, tf_val_dataset"
   ]
  },
  {
   "cell_type": "markdown",
   "id": "387a74e7",
   "metadata": {},
   "source": [
    "The function ```config_model``` again takes the various hyperparameters from ```params``` and configures the base model accordingly. It also sets the base layers as not trainable, since I don't want to train the base model - I only want to train the custom layers that I am adding.\n",
    "\n",
    "The following two functions were mostly copied from [this post](https://towardsdatascience.com/hugging-face-transformers-fine-tuning-distilbert-for-binary-classification-tasks-490f1d192379) from Towards Data Science."
   ]
  },
  {
   "cell_type": "code",
   "execution_count": 115,
   "id": "5e50ba19",
   "metadata": {},
   "outputs": [],
   "source": [
    "def config_model(params):\n",
    " \n",
    "    # Configure DistilBERT's initialization\n",
    "    config = DistilBertConfig(dropout=params['layer_dropout'] , \n",
    "                              attention_dropout=params['att_dropout'], \n",
    "                              output_hidden_states=True)\n",
    "\n",
    "    # The bare, pre-trained DistilBERT transformer model outputting raw hidden-states \n",
    "    # and without any specific head on top.\n",
    "    distilBERT = TFDistilBertModel.from_pretrained(checkpoint, config=config)\n",
    "\n",
    "    # Make DistilBERT layers untrainable\n",
    "    for layer in distilBERT.layers:\n",
    "        layer.trainable = False\n",
    "    return distilBERT"
   ]
  },
  {
   "cell_type": "markdown",
   "id": "86355ca2",
   "metadata": {},
   "source": [
    "The function ```build_model()``` takes this base transformer model as an input, along with the hyperparameters ```params``` and adds the following customs layers:\n",
    "\n",
    "* A GlobalAvgPool1D layer to reduce the dimension to a single vector\n",
    "* A 128-unit dense layer, with RELU activation\n",
    "* A 128-unit dense layer, with RELU activation\n",
    "* A 64-unit dense layer, with RELU activation\n",
    "* A 10-unit dense layer, with RELU activation\n",
    "* A 1-unit dense layer, with no activation, to output the single rating prediction\n",
    "\n",
    "I did not have time to systematically vary this architecture, so I made a few trial and error assessments, and went with this. If I had more time, tuning this architecture would be the next thing I would focus on."
   ]
  },
  {
   "cell_type": "code",
   "execution_count": 116,
   "id": "37631b4d",
   "metadata": {},
   "outputs": [],
   "source": [
    "def build_model(transformer, params):\n",
    "    \"\"\"\n",
    "    Template for building a model off of the BERT or DistilBERT architecture\n",
    "    for a binary classification task.\n",
    "    \n",
    "    Input:\n",
    "      - transformer:  a base Hugging Face transformer model object (BERT or DistilBERT)\n",
    "                      with no added classification head attached.\n",
    "      - max_length:   integer controlling the maximum number of encoded tokens \n",
    "                      in a given sequence.\n",
    "    \n",
    "    Output:\n",
    "      - model:        a compiled tf.keras.Model with added classification layers \n",
    "                      on top of the base pre-trained model architecture.\n",
    "    \"\"\"\n",
    "    \n",
    "    # Define weight initializer with a random seed to ensure reproducibility\n",
    "    weight_initializer = tf.keras.initializers.GlorotNormal(seed=RANDOM_STATE) \n",
    "    \n",
    "    # Define input layers\n",
    "    input_ids_layer = tf.keras.layers.Input(shape=(params['max_length'],), \n",
    "                                            name='input_ids', \n",
    "                                            dtype='int32')\n",
    "    input_attention_layer = tf.keras.layers.Input(shape=(params['max_length'],), \n",
    "                                                  name='attention_mask', \n",
    "                                                  dtype='int32')\n",
    "    \n",
    "    # DistilBERT outputs a tuple where the first element at index 0\n",
    "    # represents the hidden-state at the output of the model's last layer.\n",
    "    # It is a tf.Tensor of shape (batch_size, sequence_length, hidden_size=768).\n",
    "    last_hidden_state = transformer([input_ids_layer, input_attention_layer])[0]\n",
    "    \n",
    "    # We only care about DistilBERT's output for the [CLS] token, \n",
    "    # which is located at index 0 of every encoded sequence.  \n",
    "    # Splicing out the [CLS] tokens gives us 2D data.\n",
    "    # cls_token = last_hidden_state[:, 0, :]\n",
    "    \n",
    "    ##                                                 ##\n",
    "    ## Define additional dropout and dense layers here ##\n",
    "    ##                                            \n",
    "    \n",
    "    # vector = tf.reshape(last_hidden_state, [-1])\n",
    "\n",
    "    vector = tf.keras.layers.GlobalAvgPool1D()(last_hidden_state)\n",
    "\n",
    "    output1 = tf.keras.layers.Dense(128, \n",
    "                                   activation='relu',\n",
    "                                   kernel_initializer=weight_initializer,  \n",
    "                                   kernel_constraint=None,\n",
    "                                   bias_initializer='zeros'\n",
    "                                   )(vector)\n",
    "    \n",
    "    output2 = tf.keras.layers.Dense(128, \n",
    "                                   activation='relu',\n",
    "                                   kernel_initializer=weight_initializer,  \n",
    "                                   kernel_constraint=None,\n",
    "                                   bias_initializer='zeros'\n",
    "                                   )(output1)\n",
    "    \n",
    "    output3 = tf.keras.layers.Dense(64, \n",
    "                                   activation='relu',\n",
    "                                   kernel_initializer=weight_initializer,  \n",
    "                                   kernel_constraint=None,\n",
    "                                   bias_initializer='zeros'\n",
    "                                   )(output2)\n",
    "\n",
    "    output4 = tf.keras.layers.Dense(10, \n",
    "                                   activation='relu',\n",
    "                                   kernel_initializer=weight_initializer,  \n",
    "                                   kernel_constraint=None,\n",
    "                                   bias_initializer='zeros'\n",
    "                                   )(output3)\n",
    "    \n",
    "    # Define a single node that makes up the output layer (for binary classification)\n",
    "    output5 = tf.keras.layers.Dense(1, \n",
    "                                   activation=None,\n",
    "                                   kernel_initializer=weight_initializer,  \n",
    "                                   kernel_constraint=None,\n",
    "                                   bias_initializer='zeros'\n",
    "                                   )(output4)\n",
    "    \n",
    "    # Define the model\n",
    "    model = tf.keras.Model([input_ids_layer, input_attention_layer], output5)\n",
    "    \n",
    "    # Compile the model\n",
    "    model.compile(tf.keras.optimizers.Adam(learning_rate=params['lr']), \n",
    "                  loss=MeanSquaredError(),\n",
    "                  metrics=['mse'])\n",
    "    \n",
    "    return model"
   ]
  },
  {
   "cell_type": "code",
   "execution_count": 117,
   "id": "e5315886",
   "metadata": {},
   "outputs": [
    {
     "name": "stderr",
     "output_type": "stream",
     "text": [
      "Some layers from the model checkpoint at distilbert-base-uncased were not used when initializing TFDistilBertModel: ['vocab_projector', 'vocab_layer_norm', 'activation_13', 'vocab_transform']\n",
      "- This IS expected if you are initializing TFDistilBertModel from the checkpoint of a model trained on another task or with another architecture (e.g. initializing a BertForSequenceClassification model from a BertForPreTraining model).\n",
      "- This IS NOT expected if you are initializing TFDistilBertModel from the checkpoint of a model that you expect to be exactly identical (initializing a BertForSequenceClassification model from a BertForSequenceClassification model).\n",
      "All the layers of TFDistilBertModel were initialized from the model checkpoint at distilbert-base-uncased.\n",
      "If your task is similar to the task the model of the checkpoint was trained on, you can already use TFDistilBertModel for predictions without further training.\n"
     ]
    }
   ],
   "source": [
    "distilBERT = config_model(params)"
   ]
  },
  {
   "cell_type": "code",
   "execution_count": 118,
   "id": "fbc893af",
   "metadata": {},
   "outputs": [],
   "source": [
    "model = build_model(distilBERT, params)"
   ]
  },
  {
   "cell_type": "code",
   "execution_count": 119,
   "id": "35eb2b62",
   "metadata": {},
   "outputs": [
    {
     "name": "stdout",
     "output_type": "stream",
     "text": [
      "Model: \"model_1\"\n",
      "__________________________________________________________________________________________________\n",
      " Layer (type)                   Output Shape         Param #     Connected to                     \n",
      "==================================================================================================\n",
      " input_ids (InputLayer)         [(None, 512)]        0           []                               \n",
      "                                                                                                  \n",
      " attention_mask (InputLayer)    [(None, 512)]        0           []                               \n",
      "                                                                                                  \n",
      " tf_distil_bert_model_1 (TFDist  TFBaseModelOutput(l  66362880   ['input_ids[0][0]',              \n",
      " ilBertModel)                   ast_hidden_state=(N               'attention_mask[0][0]']         \n",
      "                                one, 512, 768),                                                   \n",
      "                                 hidden_states=((No                                               \n",
      "                                ne, 512, 768),                                                    \n",
      "                                 (None, 512, 768),                                                \n",
      "                                 (None, 512, 768),                                                \n",
      "                                 (None, 512, 768),                                                \n",
      "                                 (None, 512, 768),                                                \n",
      "                                 (None, 512, 768),                                                \n",
      "                                 (None, 512, 768)),                                               \n",
      "                                 attentions=None)                                                 \n",
      "                                                                                                  \n",
      " global_average_pooling1d_1 (Gl  (None, 768)         0           ['tf_distil_bert_model_1[0][7]'] \n",
      " obalAveragePooling1D)                                                                            \n",
      "                                                                                                  \n",
      " dense_5 (Dense)                (None, 128)          98432       ['global_average_pooling1d_1[0][0\n",
      "                                                                 ]']                              \n",
      "                                                                                                  \n",
      " dense_6 (Dense)                (None, 128)          16512       ['dense_5[0][0]']                \n",
      "                                                                                                  \n",
      " dense_7 (Dense)                (None, 64)           8256        ['dense_6[0][0]']                \n",
      "                                                                                                  \n",
      " dense_8 (Dense)                (None, 10)           650         ['dense_7[0][0]']                \n",
      "                                                                                                  \n",
      " dense_9 (Dense)                (None, 1)            11          ['dense_8[0][0]']                \n",
      "                                                                                                  \n",
      "==================================================================================================\n",
      "Total params: 66,486,741\n",
      "Trainable params: 123,861\n",
      "Non-trainable params: 66,362,880\n",
      "__________________________________________________________________________________________________\n"
     ]
    }
   ],
   "source": [
    "model.summary()"
   ]
  },
  {
   "cell_type": "markdown",
   "id": "d5c69075",
   "metadata": {},
   "source": [
    "# Model Training\n",
    "As I do not have a GPU on my local machine, at this point I moved over to Kaggle to train the model:\n",
    "\n",
    "*** Insert Kaggle link"
   ]
  }
 ],
 "metadata": {
  "kernelspec": {
   "display_name": "MLZoomCamp",
   "language": "python",
   "name": "mlzoomcamp"
  },
  "language_info": {
   "codemirror_mode": {
    "name": "ipython",
    "version": 3
   },
   "file_extension": ".py",
   "mimetype": "text/x-python",
   "name": "python",
   "nbconvert_exporter": "python",
   "pygments_lexer": "ipython3",
   "version": "3.9.5"
  }
 },
 "nbformat": 4,
 "nbformat_minor": 5
}
